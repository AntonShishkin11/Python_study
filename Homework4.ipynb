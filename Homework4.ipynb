{
 "cells": [
  {
   "cell_type": "markdown",
   "id": "e3f254a5-5c34-429e-984f-0452f1f8c5b3",
   "metadata": {},
   "source": [
    "## Домашнее задание 4"
   ]
  },
  {
   "cell_type": "code",
   "execution_count": 38,
   "id": "d147ed6e-7a60-4758-84ac-472ff6a2552a",
   "metadata": {},
   "outputs": [
    {
     "name": "stdin",
     "output_type": "stream",
     "text": [
      "Введите команду:\n",
      "p - чтобы найти владельца по номеру документа;\n",
      "s - чтобы найти документ на полке;\n",
      "q - чтобы завершить работу.\n",
      " p\n",
      "Введите номер документа: 10006\n"
     ]
    },
    {
     "name": "stdout",
     "output_type": "stream",
     "text": [
      "Владелец документа: Аристарх Павлов\n"
     ]
    },
    {
     "name": "stdin",
     "output_type": "stream",
     "text": [
      "Введите команду:\n",
      "p - чтобы найти владельца по номеру документа;\n",
      "s - чтобы найти документ на полке;\n",
      "q - чтобы завершить работу.\n",
      " s\n",
      "Введите номер документа: 10006\n"
     ]
    },
    {
     "name": "stdout",
     "output_type": "stream",
     "text": [
      "Документ хранится на полке 2\n"
     ]
    },
    {
     "name": "stdin",
     "output_type": "stream",
     "text": [
      "Введите команду:\n",
      "p - чтобы найти владельца по номеру документа;\n",
      "s - чтобы найти документ на полке;\n",
      "q - чтобы завершить работу.\n",
      " q\n"
     ]
    }
   ],
   "source": [
    "documents = [\n",
    "{'type': 'passport', 'number': '2207 876234', 'name': 'Василий Гупкин'},\n",
    "{'type': 'invoice', 'number': '11-2', 'name': 'Геннадий Покемонов'},\n",
    "{'type': 'insurance', 'number': '10006', 'name': 'Аристарх Павлов'}\n",
    "]\n",
    "\n",
    "directories = {\n",
    "'1': ['2207 876234', '11-2'],\n",
    "'2': ['10006'],\n",
    "'3': []\n",
    "}\n",
    "\n",
    "def PassNum():\n",
    "    num = input('Введите номер документа:')\n",
    "    for el in documents:\n",
    "        if num in el['number']:\n",
    "            print('Владелец документа:', el['name'])\n",
    "            break\n",
    "    else:\n",
    "        print('Владелец не найден')\n",
    "\n",
    "def Shelf():\n",
    "    num = input('Введите номер документа:')\n",
    "    for i in range(1, len(directories)+1):\n",
    "        if num in directories[str(i)]:\n",
    "            list_dir = list(directories.keys())\n",
    "            print('Документ хранится на полке', list_dir[i-1])\n",
    "            break\n",
    "    else:\n",
    "        print('Неизвестный номер документа')\n",
    "        \n",
    "while True:\n",
    "    command = input('Введите команду:\\np - чтобы найти владельца по номеру документа;\\ns - чтобы найти документ на полке;\\nq - чтобы завершить работу.\\n')\n",
    "    if command == 'p':\n",
    "        PassNum()\n",
    "    if command == 's':\n",
    "        Shelf()\n",
    "    if command == 'q':\n",
    "        break"
   ]
  }
 ],
 "metadata": {
  "kernelspec": {
   "display_name": "Python 3 (ipykernel)",
   "language": "python",
   "name": "python3"
  },
  "language_info": {
   "codemirror_mode": {
    "name": "ipython",
    "version": 3
   },
   "file_extension": ".py",
   "mimetype": "text/x-python",
   "name": "python",
   "nbconvert_exporter": "python",
   "pygments_lexer": "ipython3",
   "version": "3.11.1"
  }
 },
 "nbformat": 4,
 "nbformat_minor": 5
}
