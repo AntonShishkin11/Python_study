{
 "cells": [
  {
   "cell_type": "markdown",
   "id": "23ea3948-f148-4cd6-9dee-9350784d4da4",
   "metadata": {},
   "source": [
    "# Лабораторная работа №3"
   ]
  },
  {
   "cell_type": "code",
   "execution_count": 3,
   "id": "fa1b597e-afeb-461f-aff2-58d8dc4dd702",
   "metadata": {},
   "outputs": [
    {
     "name": "stdin",
     "output_type": "stream",
     "text": [
      "Введите количество дисков:  5\n"
     ]
    },
    {
     "name": "stdout",
     "output_type": "stream",
     "text": [
      "Перемещение диска 1 с A на C\n",
      "Перемещение диска 2 с A на B\n",
      "Перемещение диска 1 с C на B\n",
      "Перемещение диска 3 с A на C\n",
      "Перемещение диска 1 с B на A\n",
      "Перемещение диска 2 с B на C\n",
      "Перемещение диска 1 с A на C\n",
      "Перемещение диска 4 с A на B\n",
      "Перемещение диска 1 с C на B\n",
      "Перемещение диска 2 с C на A\n",
      "Перемещение диска 1 с B на A\n",
      "Перемещение диска 3 с C на B\n",
      "Перемещение диска 1 с A на C\n",
      "Перемещение диска 2 с A на B\n",
      "Перемещение диска 1 с C на B\n",
      "Перемещение диска 5 с A на C\n",
      "Перемещение диска 1 с B на A\n",
      "Перемещение диска 2 с B на C\n",
      "Перемещение диска 1 с A на C\n",
      "Перемещение диска 3 с B на A\n",
      "Перемещение диска 1 с C на B\n",
      "Перемещение диска 2 с C на A\n",
      "Перемещение диска 1 с B на A\n",
      "Перемещение диска 4 с B на C\n",
      "Перемещение диска 1 с A на C\n",
      "Перемещение диска 2 с A на B\n",
      "Перемещение диска 1 с C на B\n",
      "Перемещение диска 3 с A на C\n",
      "Перемещение диска 1 с B на A\n",
      "Перемещение диска 2 с B на C\n",
      "Перемещение диска 1 с A на C\n"
     ]
    }
   ],
   "source": [
    "def hanoi_tower(n, source, target, auxiliary):\n",
    "    if n > 0:\n",
    "    # Перемещение n-1 дисков с source на auxiliary, используя target в качестве промежуточного стержня\n",
    "        hanoi_tower(n-1, source, auxiliary, target)\n",
    "\n",
    "    # Перемещение верхнего диска с source на target\n",
    "        print(f\"Перемещение диска {n} с {source} на {target}\")\n",
    "\n",
    "    # Перемещение n-1 дисков с auxiliary на target, используя source в качестве промежуточного стержня\n",
    "        hanoi_tower(n-1, auxiliary, target, source)\n",
    "\n",
    "\n",
    "# Запрашиваем количество дисков у пользователя\n",
    "n = int(input(\"Введите количество дисков: \"))\n",
    "\n",
    "# Вызываем функцию для решения головоломки\n",
    "hanoi_tower(n, \"A\", \"C\", \"B\")"
   ]
  }
 ],
 "metadata": {
  "kernelspec": {
   "display_name": "Python 3 (ipykernel)",
   "language": "python",
   "name": "python3"
  },
  "language_info": {
   "codemirror_mode": {
    "name": "ipython",
    "version": 3
   },
   "file_extension": ".py",
   "mimetype": "text/x-python",
   "name": "python",
   "nbconvert_exporter": "python",
   "pygments_lexer": "ipython3",
   "version": "3.11.1"
  }
 },
 "nbformat": 4,
 "nbformat_minor": 5
}
