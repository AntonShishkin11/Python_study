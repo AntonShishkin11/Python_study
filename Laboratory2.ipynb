{
 "cells": [
  {
   "cell_type": "markdown",
   "id": "7c14a7da-293f-4153-8595-4a4bcd95ee66",
   "metadata": {},
   "source": [
    "# Лабораторная работа № 2"
   ]
  },
  {
   "cell_type": "code",
   "execution_count": null,
   "id": "05eb7951-3e6c-4588-b05e-ef44b51f4c21",
   "metadata": {},
   "outputs": [],
   "source": [
    "num_shop = list(input('Здравствуйте! Введите названия магазинов, которые вы рассматриваете для покупок через пробел:').split())\n",
    "num_g = list(input('Напишите наименование товаров, которые собираетесь купить через пробел:').split())\n",
    "price_list = []\n",
    "prices = []\n",
    "\n",
    "for i in range(len(num_shop)):\n",
    "    prices.clear()\n",
    "    for g in range(len(num_g)):\n",
    "        prices.append(int(input(f'Введите цену товара {num_g[g]} в магазине {num_shop[i]}')))\n",
    "    price_list.append(sum(prices))\n",
    "print(price_list)\n",
    "\n",
    "for i in range(len(price_list)):\n",
    "    print(f'Стоимость товаров в магазине {num_shop[i]} составила {price_list[i]}')\n",
    "print(f'Выгоднее сделать покупку в магазине {num_shop[price_list.index(min(price_list))]}')"
   ]
  }
 ],
 "metadata": {
  "kernelspec": {
   "display_name": "Python 3 (ipykernel)",
   "language": "python",
   "name": "python3"
  },
  "language_info": {
   "codemirror_mode": {
    "name": "ipython",
    "version": 3
   },
   "file_extension": ".py",
   "mimetype": "text/x-python",
   "name": "python",
   "nbconvert_exporter": "python",
   "pygments_lexer": "ipython3",
   "version": "3.11.1"
  }
 },
 "nbformat": 4,
 "nbformat_minor": 5
}
