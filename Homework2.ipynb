{
 "cells": [
  {
   "cell_type": "markdown",
   "id": "6481e82b-b4f2-4343-b0a3-13bf6db253dc",
   "metadata": {},
   "source": [
    "# Домашнее задание 2"
   ]
  },
  {
   "cell_type": "markdown",
   "id": "091e8c5f-d390-4111-8d89-6b81b7ebe9f3",
   "metadata": {},
   "source": [
    "## Задание 1"
   ]
  },
  {
   "cell_type": "code",
   "execution_count": null,
   "id": "8f684f0c-aefa-4e39-813a-234e3440560d",
   "metadata": {},
   "outputs": [],
   "source": [
    "word = input()\n",
    "\n",
    "if len(word) % 2 == 0:\n",
    "    print(word[int(len(word) / 2 - 1):int(len(word) / 2 + 1)])\n",
    "else:\n",
    "    print(word[int(len(word) / 2)])"
   ]
  },
  {
   "cell_type": "markdown",
   "id": "3f646b3b-d1d1-428e-a966-437ff503da5d",
   "metadata": {},
   "source": [
    "## Задание 2"
   ]
  },
  {
   "cell_type": "code",
   "execution_count": 33,
   "id": "9c2191f3-d622-4e19-b41b-f4c52b9df270",
   "metadata": {},
   "outputs": [
    {
     "name": "stdout",
     "output_type": "stream",
     "text": [
      "Идеальные пары:\n",
      "Alex и Emma\n",
      "Arthur и Kate\n",
      "John и Kira\n",
      "Peter и Liza\n",
      "Richard и Trisha\n"
     ]
    }
   ],
   "source": [
    "boys = ['Peter', 'Alex', 'John', 'Arthur', 'Richard']\n",
    "girls = ['Kate', 'Liza', 'Kira', 'Emma', 'Trisha']\n",
    "boys.sort()\n",
    "girls.sort()\n",
    "\n",
    "if len(boys) == len(girls):\n",
    "    print('Идеальные пары:')\n",
    "    for i in range(len(boys)):\n",
    "        print(f'{boys[i]} и {girls[i]}')\n",
    "else:\n",
    "    print('Внимание, кто-то может остаться без пары.')"
   ]
  },
  {
   "cell_type": "code",
   "execution_count": 34,
   "id": "a89e7be1-f200-4b96-a168-cbc3ccd9eb44",
   "metadata": {},
   "outputs": [
    {
     "name": "stdout",
     "output_type": "stream",
     "text": [
      "Внимание, кто-то может остаться без пары.\n"
     ]
    }
   ],
   "source": [
    "boys = ['Peter', 'Alex', 'John', 'Arthur', 'Richard', 'Michael']\n",
    "girls = ['Kate', 'Liza', 'Kira', 'Emma', 'Trisha']\n",
    "boys.sort()\n",
    "girls.sort()\n",
    "\n",
    "if len(boys) == len(girls):\n",
    "    print('Идеальные пары:')\n",
    "    for i in range(len(boys)):\n",
    "        print(f'{boys[i]} и {girls[i]}')\n",
    "else:\n",
    "    print('Внимание, кто-то может остаться без пары.')"
   ]
  }
 ],
 "metadata": {
  "kernelspec": {
   "display_name": "Python 3 (ipykernel)",
   "language": "python",
   "name": "python3"
  },
  "language_info": {
   "codemirror_mode": {
    "name": "ipython",
    "version": 3
   },
   "file_extension": ".py",
   "mimetype": "text/x-python",
   "name": "python",
   "nbconvert_exporter": "python",
   "pygments_lexer": "ipython3",
   "version": "3.11.1"
  }
 },
 "nbformat": 4,
 "nbformat_minor": 5
}
