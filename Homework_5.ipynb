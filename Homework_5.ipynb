{
 "cells": [
  {
   "cell_type": "code",
   "execution_count": 31,
   "id": "87971b4a-d13f-4e7a-90b2-f889dce9302d",
   "metadata": {},
   "outputs": [
    {
     "name": "stdin",
     "output_type": "stream",
     "text": [
      "Введите дату:  Thursday, 18 August 1977\n"
     ]
    },
    {
     "name": "stdout",
     "output_type": "stream",
     "text": [
      "1977-08-18\n"
     ]
    },
    {
     "name": "stdin",
     "output_type": "stream",
     "text": [
      "Введите дату:  Wednesday, October 2, 2002\n"
     ]
    },
    {
     "name": "stdout",
     "output_type": "stream",
     "text": [
      "2002-10-02\n"
     ]
    },
    {
     "name": "stdin",
     "output_type": "stream",
     "text": [
      "Введите дату:  Friday, 11.10.13\n"
     ]
    },
    {
     "name": "stdout",
     "output_type": "stream",
     "text": [
      "2013-10-11\n"
     ]
    },
    {
     "name": "stdin",
     "output_type": "stream",
     "text": [
      "Введите дату:  q\n"
     ]
    },
    {
     "name": "stdout",
     "output_type": "stream",
     "text": [
      "Программа закрыта\n"
     ]
    }
   ],
   "source": [
    "from datetime import datetime\n",
    "\n",
    "def date_format(user_string):\n",
    "    try:\n",
    "        user_string_date = datetime.strptime(user_string, '%A, %d.%m.%y').date()\n",
    "        return str(user_string_date)\n",
    "    except:\n",
    "        pass\n",
    "\n",
    "    try:\n",
    "        user_string_date = datetime.strptime(user_string, '%A, %B %d, %Y').date()\n",
    "        return str(user_string_date)\n",
    "    except:\n",
    "        pass\n",
    "    \n",
    "    try:\n",
    "        user_string_date = datetime.strptime(user_string, '%A, %d %B %Y').date()\n",
    "        return str(user_string_date)\n",
    "    except:\n",
    "        pass\n",
    "\n",
    "while True:\n",
    "    user_string = input('Введите дату: ')\n",
    "    if user_string == 'q':\n",
    "        print('Программа закрыта')\n",
    "        break\n",
    "    else:\n",
    "        print(date_format(user_string))"
   ]
  }
 ],
 "metadata": {
  "kernelspec": {
   "display_name": "Python 3 (ipykernel)",
   "language": "python",
   "name": "python3"
  },
  "language_info": {
   "codemirror_mode": {
    "name": "ipython",
    "version": 3
   },
   "file_extension": ".py",
   "mimetype": "text/x-python",
   "name": "python",
   "nbconvert_exporter": "python",
   "pygments_lexer": "ipython3",
   "version": "3.11.1"
  }
 },
 "nbformat": 4,
 "nbformat_minor": 5
}
