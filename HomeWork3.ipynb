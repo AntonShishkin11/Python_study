{
 "cells": [
  {
   "cell_type": "markdown",
   "id": "5605f5dc-be46-4c1a-a3c5-21501bb25c56",
   "metadata": {},
   "source": [
    "# Домашнее задание 3"
   ]
  },
  {
   "cell_type": "code",
   "execution_count": 2,
   "id": "b0a3b609-270f-4b44-a574-193758264135",
   "metadata": {},
   "outputs": [
    {
     "name": "stdout",
     "output_type": "stream",
     "text": [
      "{'milk15': False, 'cheese': True, 'sausage': False}\n"
     ]
    }
   ],
   "source": [
    "items = {'milk15':{'name': 'молоко 1.5%', 'count': 34, 'price': 89.9},\n",
    "'cheese':{'name': 'сыр молочный 1 кг.', 'count': 12, 'price': 990.9},\n",
    "'sausage':{'name': 'колбаса 1 кг.', 'count': 122, 'price': 1990.9}}\n",
    "\n",
    "result = {key: True if value['count'] < 20 else False for key, value in items.items()}\n",
    "print(result)"
   ]
  }
 ],
 "metadata": {
  "kernelspec": {
   "display_name": "Python 3 (ipykernel)",
   "language": "python",
   "name": "python3"
  },
  "language_info": {
   "codemirror_mode": {
    "name": "ipython",
    "version": 3
   },
   "file_extension": ".py",
   "mimetype": "text/x-python",
   "name": "python",
   "nbconvert_exporter": "python",
   "pygments_lexer": "ipython3",
   "version": "3.11.1"
  }
 },
 "nbformat": 4,
 "nbformat_minor": 5
}
