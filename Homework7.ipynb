{
 "cells": [
  {
   "cell_type": "code",
   "execution_count": 7,
   "id": "0dff0f2d",
   "metadata": {},
   "outputs": [
    {
     "name": "stdout",
     "output_type": "stream",
     "text": [
      "Вычисления по формуле 1 заняли 0.004309415817260742 секунд\n",
      "Вычисления по формуле 2 заняли 0.0 секунд\n",
      "Вычисления по формуле 3 заняли 0.006516456604003906 секунд\n",
      "Вычисления по формуле 1 заняли 0.02142810821533203 секунд\n",
      "Вычисления по формуле 2 заняли 0.0 секунд\n",
      "Вычисления по формуле 3 заняли 0.01649022102355957 секунд\n"
     ]
    }
   ],
   "source": [
    "import threading\n",
    "import time\n",
    "\n",
    "def formula_1(iterations):\n",
    "    start_time = time.time()\n",
    "    result = 0\n",
    "    for i in range(iterations):\n",
    "        result = i**2 - i**2 + i*4 - i*5 + i + i\n",
    "    end_time = time.time()\n",
    "    duration = end_time - start_time\n",
    "    print(f\"Вычисления по формуле 1 заняли {duration} секунд\")\n",
    "\n",
    "def formula_2(iterations):\n",
    "    start_time = time.time()\n",
    "    result = 0\n",
    "    for i in range(iterations):\n",
    "        result = i + i\n",
    "    end_time = time.time()\n",
    "    duration = end_time - start_time\n",
    "    print(f\"Вычисления по формуле 2 заняли {duration} секунд\")\n",
    "\n",
    "def formula_3(iterations):\n",
    "    start_time = time.time()\n",
    "    result = 0\n",
    "    for i in range(iterations):\n",
    "        result = (i**2 - i**2 + i*4 - i*5 + i + i) + (i + i)\n",
    "    end_time = time.time()\n",
    "    duration = end_time - start_time\n",
    "    print(f\"Вычисления по формуле 3 заняли {duration} секунд\")\n",
    "    \n",
    "iterations_1 = 10000\n",
    "iterations_2 = 100000\n",
    "\n",
    "thread1 = threading.Thread(target=formula_1, args=(iterations_1,))\n",
    "thread2 = threading.Thread(target=formula_2, args=(iterations_1,))\n",
    "thread3 = threading.Thread(target=formula_3, args=(iterations_1,))\n",
    "\n",
    "thread1.start()\n",
    "thread2.start()\n",
    "thread3.start()\n",
    "\n",
    "thread1.join()\n",
    "thread2.join()\n",
    "thread3.join()\n",
    "\n",
    "thread4 = threading.Thread(target=formula_1, args=(iterations_2,))\n",
    "thread5 = threading.Thread(target=formula_2, args=(iterations_2,))\n",
    "thread6 = threading.Thread(target=formula_3, args=(iterations_2,))\n",
    "\n",
    "thread4.start()\n",
    "thread5.start()\n",
    "thread6.start()\n",
    "\n",
    "thread4.join()\n",
    "thread5.join()\n",
    "thread6.join()"
   ]
  },
  {
   "cell_type": "code",
   "execution_count": null,
   "id": "ec6125bc",
   "metadata": {},
   "outputs": [],
   "source": []
  },
  {
   "cell_type": "code",
   "execution_count": null,
   "id": "dd72160f",
   "metadata": {},
   "outputs": [],
   "source": []
  }
 ],
 "metadata": {
  "kernelspec": {
   "display_name": "Python 3 (ipykernel)",
   "language": "python",
   "name": "python3"
  },
  "language_info": {
   "codemirror_mode": {
    "name": "ipython",
    "version": 3
   },
   "file_extension": ".py",
   "mimetype": "text/x-python",
   "name": "python",
   "nbconvert_exporter": "python",
   "pygments_lexer": "ipython3",
   "version": "3.11.4"
  }
 },
 "nbformat": 4,
 "nbformat_minor": 5
}
