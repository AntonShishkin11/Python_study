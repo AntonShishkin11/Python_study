{
 "cells": [
  {
   "cell_type": "code",
   "execution_count": 58,
   "id": "78bac41b",
   "metadata": {},
   "outputs": [],
   "source": [
    "def sex(line):\n",
    "    if line == 'female':\n",
    "        line = 'женского'\n",
    "    else:\n",
    "        line = 'мужского'\n",
    "    return line\n",
    "\n",
    "def device(line):\n",
    "    if line == 'mobile' or line == 'tablet':\n",
    "        line = 'мобильного'\n",
    "    else:\n",
    "        line = 'десктопного'\n",
    "    return line\n",
    "\n",
    "def descript(line):\n",
    "    descr = (f'Пользователь {line[0]} {sex(line[3])} пола, {line[4]} лет совершила покупку на {line[5]} у.е. с {device(line[1])} браузера {line[2]}. Регион, из которого совершалась покупка: {line[6]}\\n')\n",
    "    return descr\n",
    "\n",
    "with open ('web_clients_correct.csv', 'r', encoding = 'utf-8') as file:\n",
    "    with open ('web_clients_formated', 'w', encoding = 'utf-8') as form:\n",
    "        for line in file:\n",
    "            line = line.strip().split(',')\n",
    "            form.write(descript(line))"
   ]
  },
  {
   "cell_type": "code",
   "execution_count": null,
   "id": "ea988c40",
   "metadata": {},
   "outputs": [],
   "source": []
  }
 ],
 "metadata": {
  "kernelspec": {
   "display_name": "Python 3 (ipykernel)",
   "language": "python",
   "name": "python3"
  },
  "language_info": {
   "codemirror_mode": {
    "name": "ipython",
    "version": 3
   },
   "file_extension": ".py",
   "mimetype": "text/x-python",
   "name": "python",
   "nbconvert_exporter": "python",
   "pygments_lexer": "ipython3",
   "version": "3.11.4"
  }
 },
 "nbformat": 4,
 "nbformat_minor": 5
}
