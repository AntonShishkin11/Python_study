{
 "cells": [
  {
   "cell_type": "code",
   "execution_count": 2,
   "id": "3af84ff0-0bbf-4223-8202-57214b620e6b",
   "metadata": {},
   "outputs": [],
   "source": [
    "import json\n",
    "\n",
    "with open('first.txt', 'r') as txt_file:\n",
    "    data = txt_file.read()\n",
    "\n",
    "json_data = json.dumps({'text': data})\n",
    "\n",
    "with open('second.json', 'w') as json_file:\n",
    "    json_file.write(json_data)"
   ]
  },
  {
   "cell_type": "code",
   "execution_count": null,
   "id": "eb6607d3-2075-4844-8f84-559940f33550",
   "metadata": {},
   "outputs": [],
   "source": []
  }
 ],
 "metadata": {
  "kernelspec": {
   "display_name": "Python 3 (ipykernel)",
   "language": "python",
   "name": "python3"
  },
  "language_info": {
   "codemirror_mode": {
    "name": "ipython",
    "version": 3
   },
   "file_extension": ".py",
   "mimetype": "text/x-python",
   "name": "python",
   "nbconvert_exporter": "python",
   "pygments_lexer": "ipython3",
   "version": "3.11.1"
  }
 },
 "nbformat": 4,
 "nbformat_minor": 5
}
